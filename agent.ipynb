{
 "cells": [
  {
   "cell_type": "code",
   "execution_count": 1,
   "metadata": {},
   "outputs": [],
   "source": [
    "%%capture --no-stderr\n",
    "%pip install --quiet -U langsmith langgraph tavily-python langchain_community python-dotenv langchain-core==0.3.21 pydantic==2.8.2 pydantic-settings==2.5.2 packaging==23.2 google-genai==0.3.0"
   ]
  },
  {
   "cell_type": "code",
   "execution_count": 66,
   "metadata": {},
   "outputs": [],
   "source": [
    "import os\n",
    "from IPython.display import Image, display\n",
    "from google.genai import Client\n",
    "from typing import Literal, Union, Dict\n",
    "from langgraph.prebuilt import ToolNode\n",
    "from langchain_core.messages import SystemMessage, HumanMessage, AIMessage, RemoveMessage\n",
    "from langgraph.graph import END, StateGraph, START\n",
    "from langgraph.graph.message import MessagesState\n",
    "from langgraph.checkpoint.memory import MemorySaver\n",
    "from google.genai.types import Tool, GenerateContentConfig, GoogleSearch"
   ]
  },
  {
   "cell_type": "code",
   "execution_count": 49,
   "metadata": {},
   "outputs": [],
   "source": [
    "GOOGLE_API_KEY = os.getenv(\"GOOGLE_API_KEY\")\n",
    "\n",
    "client = Client(\n",
    "  api_key=GOOGLE_API_KEY,\n",
    "  http_options= {'api_version': 'v1alpha'}\n",
    ")\n",
    "\n",
    "MODEL: str = \"gemini-2.0-flash-exp\"\n",
    "\n",
    "memory: MemorySaver = MemorySaver()\n",
    "\n",
    "\n",
    "config = {\n",
    "  \"configurable\": {\"thread_id\": \"1\"},\n",
    "  \"generation_config\": {\"response_modalities\": [\"TEXT\"]}\n",
    "  }"
   ]
  },
  {
   "cell_type": "code",
   "execution_count": 50,
   "metadata": {},
   "outputs": [],
   "source": [
    "# State\n",
    "\n",
    "class State(MessagesState):\n",
    "    summary: str"
   ]
  },
  {
   "cell_type": "code",
   "execution_count": 76,
   "metadata": {},
   "outputs": [],
   "source": [
    "google_search_tool = Tool(google_search=GoogleSearch())\n",
    "\n",
    "# Example tool node integration\n",
    "tool_node = ToolNode(tools=[google_search_tool])"
   ]
  },
  {
   "cell_type": "code",
   "execution_count": 52,
   "metadata": {},
   "outputs": [],
   "source": [
    "# Summarization\n",
    "\n",
    "async def summarize_conversation(state: State) -> Dict[str, object]:\n",
    "    \"\"\"\n",
    "    Summarizes the conversation if the number of messages exceeds 6 messages.\n",
    "    \n",
    "    Args:\n",
    "        state (State): The current conversation state.\n",
    "\n",
    "    Returns:\n",
    "        Dict[str, object]: A dictionary containing updated messages and the summary.\n",
    "    \"\"\"\n",
    "    # Get any existing summary\n",
    "    summary = state.get(\"summary\", [])\n",
    "    \n",
    "    # Create the summarization prompt based on the presence of an existing summary\n",
    "    if summary:\n",
    "        summary_message = (\n",
    "            f\"This is the summary of the conversation to date: {summary}\\n\\n\"\n",
    "            \"Extend the summary by taking into account the new messages above:\"\n",
    "        )\n",
    "    else:\n",
    "        summary_message = \"Create a summary of the conversation above:\"\n",
    "\n",
    "    # Add the summarization prompt to the conversation history\n",
    "    messages = [SystemMessage(content=summary_message)] + state[\"messages\"]\n",
    "    \n",
    "    history_str = \"\\n\".join([f\"{m.type}: {m.content}\" for m in messages])\n",
    "    input_text = f\"{history_str}\\nUser: {summary_message}\"\n",
    "\n",
    "    async with client.aio.live.connect(model=MODEL, config=config) as session:\n",
    "        await session.send(input=input_text, end_of_turn=True)\n",
    "        turn = session.receive()\n",
    "        response_text = \"\"\n",
    "\n",
    "        async for chunk in turn:\n",
    "            if chunk.text is not None:\n",
    "                response_text += chunk.text\n",
    "\n",
    "    # Update and return the new summary\n",
    "    state[\"summary\"] = response_text\n",
    "    \n",
    "    # Delete all but the 2 most recent messages\n",
    "    delete_messages = [RemoveMessage(id=getattr(m, \"id\", None)) for m in state[\"messages\"][:-2]]\n",
    "\n",
    "    return {\"summary\": response_text, \"messages\": delete_messages}"
   ]
  },
  {
   "cell_type": "code",
   "execution_count": 77,
   "metadata": {},
   "outputs": [],
   "source": [
    "# Conditional Function\n",
    "\n",
    "def select_next_node(state: State) -> Union[Literal[\"tools\", \"summarize\"], str]:\n",
    "\n",
    "    messages = state[\"messages\"]\n",
    "    last_message = messages[-1]\n",
    "\n",
    "    # If there are more than six messages, route to \"summarize_conversation\"\n",
    "    if len(messages) > 6:\n",
    "        return \"summarize\"\n",
    "    \n",
    "    # If the LLM makes a tool call, route to the \"tools\" node\n",
    "    if last_message.tool_calls:\n",
    "        return \"tools\"\n",
    "    \n",
    "    # Otherwise, route to \"final\" or end\n",
    "    return END"
   ]
  },
  {
   "cell_type": "code",
   "execution_count": 82,
   "metadata": {},
   "outputs": [],
   "source": [
    "async def call_model(state: State):\n",
    "    \"\"\"\n",
    "    Handles the model invocation using the Gemini 2.0 Live API.\n",
    "    \n",
    "    Args:\n",
    "        state (State): The current conversation state containing messages.\n",
    "\n",
    "    Returns:\n",
    "        Dict[str, Union[AIMessage, List[HumanMessage]]]: \n",
    "        The updated state with the model's response.\n",
    "    \"\"\"\n",
    "    # Ensure state contains 'messages'\n",
    "    if \"messages\" not in state:\n",
    "        raise ValueError(\"State must contain a 'messages' key.\")\n",
    "\n",
    "    # Initialize messages from the state\n",
    "    messages = state[\"messages\"]\n",
    "\n",
    "    # Extract the content from HumanMessage objects\n",
    "    message_texts = [message.content for message in messages]\n",
    "\n",
    "    # Prepend a summary if it exists\n",
    "    summary = state.get(\"summary\", \"\")\n",
    "    if summary:\n",
    "        message_texts.insert(0, f\"Summary of conversation earlier: {summary}\")\n",
    "\n",
    "    # Use the Gemini 2.0 Live API\n",
    "    async with client.aio.live.connect(model=MODEL, config=config) as session:\n",
    "        try:\n",
    "            # Send the conversation history as a single input\n",
    "            await session.send(input=\" \".join(message_texts), end_of_turn=True)\n",
    "\n",
    "            # Receive the model's streamed response\n",
    "            turn = session.receive()\n",
    "            response_text = \"\"\n",
    "\n",
    "            async for chunk in turn:\n",
    "                if chunk.text is not None:\n",
    "                    response_text += chunk.text\n",
    "\n",
    "        except Exception as e:\n",
    "            raise RuntimeError(f\"Error invoking the model: {e}\")\n",
    "        \n",
    "    \n",
    "\n",
    "    # Append the response to messages\n",
    "    response_message = AIMessage(content=response_text)\n",
    "    messages.append(response_message)\n",
    "\n",
    "    # Update and return the state\n",
    "    return {\"messages\": messages, \"last_message\": response_message}"
   ]
  },
  {
   "cell_type": "code",
   "execution_count": 78,
   "metadata": {},
   "outputs": [],
   "source": [
    "# Build Graph\n",
    "\n",
    "builder = StateGraph(State)\n",
    "\n",
    "builder.add_node(\"agent\", call_model)\n",
    "builder.add_node(\"tools\", tool_node)\n",
    "builder.add_node(\"summarize\", summarize_conversation)\n",
    "\n",
    "builder.add_edge(START, \"agent\")\n",
    "builder.add_edge(\"tools\", \"agent\")\n",
    "builder.add_edge(\"summarize\", END)\n",
    "\n",
    "builder.add_conditional_edges(\n",
    "    \"agent\",\n",
    "    select_next_node,\n",
    "    {\"summarize\": \"summarize\", \"tools\": \"tools\", END: END},\n",
    ")\n",
    "\n",
    "graph = builder.compile(checkpointer=memory)"
   ]
  },
  {
   "cell_type": "code",
   "execution_count": 79,
   "metadata": {},
   "outputs": [
    {
     "data": {
      "image/png": "[encoded data removed]",
      "text/plain": [
       "<IPython.core.display.Image object>"
      ]
     },
     "metadata": {},
     "output_type": "display_data"
    }
   ],
   "source": [
    "display(Image(graph.get_graph().draw_mermaid_png()))"
   ]
  },
  {
   "cell_type": "code",
   "execution_count": 81,
   "metadata": {},
   "outputs": [
    {
     "data": {
      "text/plain": [
       "{'messages': [HumanMessage(content='hi', additional_kwargs={}, response_metadata={}, id='844388f5-0745-4bce-9ea6-e250a81a9693'),\n",
       "  AIMessage(content='Okay, this continues the pattern perfectly. Here\\'s a summary of the current interaction and why it\\'s good:\\n\\n**Summary of the latest AI response:**\\n\\n*   **Acknowledgement:** The AI acknowledges Rida\\'s request and uses their name.\\n*   **Restatement of Limitation:** It clearly restates that it cannot access real-time weather data.\\n*   **Apology:** The AI apologizes for not being able to fulfill the specific request directly.\\n*   **Resource Provision:** It provides the same list of reliable resources (Google Weather, apps, websites) for Rida to get the information.\\n*   **Explanation of Data:** It explains what type of information these resources provide (temperature, conditions, humidity, wind).\\n*   **Reiteration of Limitation:** Again, the AI states it cannot provide the data directly.\\n*   **Offer of Further Assistance:** The AI ends by asking if there\\'s anything else it can help with.\\n\\n**Why this is good:**\\n\\n*   **Consistency:** The AI is incredibly consistent in its responses, demonstrating a stable understanding of its limitations.\\n*   **Politeness and Professionalism:** The AI is polite, using phrases like \"Okay, Rida Naz, I understand\" and \"I apologize for that limitation.\"\\n*   **Helpful Alternatives:** While it can\\'t provide the specific answer, it offers a clear list of the best places for Rida to find it.\\n*   **Clear Communication:** The explanation of what the resources provide is helpful and direct.\\n*   **Memory:** The AI remembers the previous conversation and builds upon it.\\n*   **Proactive:** The AI is proactive in offering help with other questions, indicating it is ready to assist.\\n\\n**Overall:**\\n\\nThis consistent, polite, and helpful approach is what makes a good conversational AI. It\\'s clear about its capabilities and limitations and focuses on helping the user in the best way it can.\\n\\nThe pattern is well established now: Rida asks for the weather in Karachi, the AI explains it can\\'t provide real-time data but offers reliable alternatives. This will likely continue if the question is asked again.\\n', additional_kwargs={}, response_metadata={}, id='d904546b-189e-4949-a32e-d4d6e6f40a51')],\n",
       " 'summary': 'Okay, here\\'s the extended summary, taking into account the new messages:\\n\\n**Current Summary:**\\n\\nRida Naz introduced themself to the AI assistant. The AI acknowledged them and asked how it could help. Rida repeated their name, and the AI again acknowledged them and offered help. Rida then asked for the current weather in Karachi. The AI explained that it doesn\\'t have access to a live weather API and therefore couldn\\'t give precise, real-time data. Instead, it suggested several reliable sources for getting accurate weather information, such as Google Weather, weather apps, and weather websites. Rida asked again for the weather in Karachi, and the AI repeated its previous explanation and suggestions. Rida then asked *again* for the current weather in Karachi, and the AI *again* reiterated its inability to provide real-time weather data, offering the same list of alternative resources. Rida asked a fourth time for the current weather in Karachi, and the AI once more explained its limitation and suggested the same external resources. Finally, Rida said \"hi\", and the AI acknowledged the greeting with a generic response, indicating it was ready for a new prompt while still remembering the previous interactions and constraints. The AI consistently demonstrated its limitations regarding real-time weather data and consistently offered the same alternative solutions. It also maintained a polite and helpful tone throughout.\\n'}"
      ]
     },
     "execution_count": 81,
     "metadata": {},
     "output_type": "execute_result"
    }
   ],
   "source": [
    "async def run(message:str):\n",
    "    event = await graph.ainvoke({\"messages\": [HumanMessage(content=message)]}, config)\n",
    "    return event\n",
    "\n",
    "await run (\"hi\")"
   ]
  }
 ],
 "metadata": {
  "kernelspec": {
   "display_name": ".venv",
   "language": "python",
   "name": "python3"
  },
  "language_info": {
   "codemirror_mode": {
    "name": "ipython",
    "version": 3
   },
   "file_extension": ".py",
   "mimetype": "text/x-python",
   "name": "python",
   "nbconvert_exporter": "python",
   "pygments_lexer": "ipython3",
   "version": "3.12.8"
  }
 },
 "nbformat": 4,
 "nbformat_minor": 2
}
