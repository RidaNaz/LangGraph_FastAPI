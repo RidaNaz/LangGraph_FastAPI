{
 "cells": [
  {
   "cell_type": "code",
   "execution_count": 1,
   "metadata": {},
   "outputs": [],
   "source": [
    "%%capture --no-stderr\n",
    "%pip install --quiet -U langsmith langgraph langchain_community langchain-core==0.3.21 pydantic==2.8.2 pydantic-settings==2.5.2 packaging==23.2 google-genai==0.3.0"
   ]
  },
  {
   "cell_type": "code",
   "execution_count": 2,
   "metadata": {},
   "outputs": [],
   "source": [
    "import os\n",
    "from IPython.display import Image, display\n",
    "from google.genai import Client\n",
    "from google.genai.types import Tool, GoogleSearch\n",
    "from typing import Literal, Union, Dict\n",
    "from langchain_core.messages import SystemMessage, HumanMessage, AIMessage, RemoveMessage, ToolMessage\n",
    "from langgraph.graph import END, StateGraph, START\n",
    "from langgraph.graph.message import MessagesState\n",
    "from langgraph.checkpoint.memory import MemorySaver\n",
    "from pydantic import BaseModel"
   ]
  },
  {
   "cell_type": "code",
   "execution_count": 3,
   "metadata": {},
   "outputs": [],
   "source": [
    "GOOGLE_API_KEY = os.getenv(\"GOOGLE_API_KEY\")\n",
    "\n",
    "client = Client(\n",
    "  api_key=GOOGLE_API_KEY,\n",
    "  http_options= {'api_version': 'v1alpha'}\n",
    ")\n",
    "\n",
    "MODEL: str = \"gemini-2.0-flash-exp\"\n",
    "\n",
    "config = {\n",
    "  \"configurable\": {\"thread_id\": \"1\"},\n",
    "  \"generation_config\": {\"response_modalities\": [\"TEXT\"]}\n",
    "  }"
   ]
  },
  {
   "cell_type": "code",
   "execution_count": 4,
   "metadata": {},
   "outputs": [],
   "source": [
    "# Postgres DB\n",
    "\n",
    "# # if you want to use postgres install these extra packages\n",
    "# pip install langgraph-checkpoint-postgres psycopg psycopg-pool psycopg-binary\n",
    "\n",
    "# # import these\n",
    "# from psycopg_pool import ConnectionPool\n",
    "# from langgraph.checkpoint.postgres import PostgresSaver\n",
    "\n",
    "# # Extra Env variable\n",
    "# NEON_DB_URI = os.getenv(\"NEON_DB_URI\")\n",
    "\n",
    "# # Connection pool for efficient database access\n",
    "# connection_kwargs = {\"autocommit\": True, \"prepare_threshold\": 0}\n",
    "\n",
    "# # Create a persistent connection pool\n",
    "# pool = ConnectionPool(conninfo=NEON_DB_URI, max_size=50, kwargs=connection_kwargs)\n",
    "\n",
    "# # Initialize PostgresSaver checkpointer\n",
    "# checkpointer = PostgresSaver(pool)               # pass this checkpointer while compiling the graph\n",
    "# checkpointer.setup()  # Ensure database tables are set up\n",
    "\n",
    "memory: MemorySaver = MemorySaver()      # if you dont want to set postgres DB, just go with `MemorySaver()`"
   ]
  },
  {
   "cell_type": "code",
   "execution_count": 5,
   "metadata": {},
   "outputs": [],
   "source": [
    "# State\n",
    "\n",
    "class State(MessagesState):\n",
    "    summary: str\n",
    "    ask_human: bool"
   ]
  },
  {
   "cell_type": "code",
   "execution_count": 6,
   "metadata": {},
   "outputs": [],
   "source": [
    "class RequestAssistance(BaseModel):  # You can modify it for Whatsapp\n",
    "    \"\"\"Escalate the conversation to an expert. Use this if you are unable to assist directly or if the user requires support beyond your permissions.\n",
    "\n",
    "    To use this function, relay the user's 'request' so the expert can provide the right guidance.\n",
    "    \"\"\"\n",
    "\n",
    "    request: str\n",
    "    \n",
    "google_search_tool = Tool(\n",
    "    google_search = GoogleSearch()\n",
    ")\n",
    "\n",
    "tools = [google_search_tool]\n",
    "\n",
    "# We used this binding method in `ChatGoogleGenerativeAI`, but I am using `Google sdk`\n",
    "# I dont know how can I used tools in this\n",
    "# If this issue is resolves, we can add RequestAssistance with it\n",
    "\n",
    "# llm_with_tools = llm.bind_tools(tools + [RequestAssistance])   "
   ]
  },
  {
   "cell_type": "code",
   "execution_count": 7,
   "metadata": {},
   "outputs": [],
   "source": [
    "# Helper Function\n",
    "def create_response(response: str, ai_message: AIMessage):\n",
    "    return ToolMessage(\n",
    "        content=response,\n",
    "        tool_call_id=ai_message.tool_calls[0][\"id\"],\n",
    "    )\n",
    "\n",
    "\n",
    "def human_node(state: State):\n",
    "    new_messages = []\n",
    "    if not isinstance(state[\"messages\"][-1], ToolMessage):\n",
    "        # Typically, the user will have updated the state during the interrupt.\n",
    "        # If they choose not to, we will include a placeholder ToolMessage to\n",
    "        # let the LLM continue.\n",
    "        new_messages.append(\n",
    "            create_response(\"No response from human.\", state[\"messages\"][-1])\n",
    "        )\n",
    "    return {\n",
    "        # Append the new messages\n",
    "        \"messages\": new_messages,\n",
    "        # Unset the flag\n",
    "        \"ask_human\": False,\n",
    "    }"
   ]
  },
  {
   "cell_type": "code",
   "execution_count": 8,
   "metadata": {},
   "outputs": [],
   "source": [
    "# Summarization\n",
    "\n",
    "async def summarize_conversation(state: State) -> Dict[str, object]:\n",
    "    \"\"\"\n",
    "    Summarizes the conversation if the number of messages exceeds 6 messages.\n",
    "    \n",
    "    Args:\n",
    "        state (State): The current conversation state.\n",
    "\n",
    "    Returns:\n",
    "        Dict[str, object]: A dictionary containing updated messages and the summary.\n",
    "    \"\"\"\n",
    "    # Get any existing summary\n",
    "    summary = state.get(\"summary\", [])\n",
    "    \n",
    "    # Create the summarization prompt based on the presence of an existing summary\n",
    "    if summary:\n",
    "        summary_message = (\n",
    "            f\"This is the summary of the conversation to date: {summary}\\n\\n\"\n",
    "            \"Extend the summary by taking into account the new messages above:\"\n",
    "        )\n",
    "    else:\n",
    "        summary_message = \"Create a summary of the conversation above:\"\n",
    "\n",
    "    # Add the summarization prompt to the conversation history\n",
    "    messages = [SystemMessage(content=summary_message)] + state[\"messages\"]\n",
    "    \n",
    "    history_str = \"\\n\".join([f\"{m.type}: {m.content}\" for m in messages])\n",
    "    input_text = f\"{history_str}\\nUser: {summary_message}\"\n",
    "\n",
    "    async with client.aio.live.connect(model=MODEL, config=config) as session:\n",
    "        await session.send(input=input_text, end_of_turn=True)\n",
    "        turn = session.receive()\n",
    "        response_text = \"\"\n",
    "\n",
    "        async for chunk in turn:\n",
    "            if chunk.text is not None:\n",
    "                response_text += chunk.text\n",
    "\n",
    "    # Update and return the new summary\n",
    "    summary = response_text\n",
    "    \n",
    "    # Delete all but the 2 most recent messages\n",
    "    delete_messages = [RemoveMessage(id=getattr(m, \"id\", None)) for m in state[\"messages\"][:-2]]\n",
    "\n",
    "    return {\"summary\": response_text, \"messages\": delete_messages}"
   ]
  },
  {
   "cell_type": "code",
   "execution_count": 9,
   "metadata": {},
   "outputs": [],
   "source": [
    "# Conditional Function\n",
    "\n",
    "def select_next_node(state: State) -> Union[Literal[\"human\", \"summarize\"], str]:\n",
    "    \n",
    "    if state[\"ask_human\"]:\n",
    "        return \"human\"\n",
    "\n",
    "    messages = state[\"messages\"]\n",
    "\n",
    "    # If there are more than six messages, route to \"summarize_conversation\"\n",
    "    if len(messages) > 6:\n",
    "        return \"summarize\"\n",
    "    \n",
    "    # Otherwise, route to \"final\" or end\n",
    "    return END"
   ]
  },
  {
   "cell_type": "code",
   "execution_count": 10,
   "metadata": {},
   "outputs": [],
   "source": [
    "async def call_model(state: State):\n",
    "    \"\"\"\n",
    "    Handles the model invocation using the Gemini 2.0 Live API.\n",
    "    \n",
    "    Args:\n",
    "        state (State): The current conversation state containing messages.\n",
    "\n",
    "    Returns:\n",
    "        Dict[str, Union[AIMessage, List[HumanMessage]]]: \n",
    "        The updated state with the model's response.\n",
    "    \"\"\"\n",
    "    # Ensure state contains 'messages'\n",
    "    if \"messages\" not in state:\n",
    "        raise ValueError(\"State must contain a 'messages' key.\")\n",
    "\n",
    "    # Initialize messages from the state\n",
    "    messages = state[\"messages\"]\n",
    "\n",
    "    # Prepend a summary if it exists\n",
    "    summary = state.get(\"summary\", \"\")\n",
    "    if summary:\n",
    "        system_message = f\"Summary of conversation earlier: {summary}\"\n",
    "        messages = [SystemMessage(content=system_message)] + messages\n",
    "        \n",
    "    # Extract the content from HumanMessage objects\n",
    "    message_texts = [message.content for message in messages]\n",
    "\n",
    "    # Use the Gemini 2.0 Live API\n",
    "    async with client.aio.live.connect(model=MODEL, config=config) as session:\n",
    "        try:\n",
    "            # Send the conversation history as a single input\n",
    "            await session.send(input=\" \".join(message_texts), end_of_turn=True)\n",
    "\n",
    "            # Receive the model's streamed response\n",
    "            turn = session.receive()\n",
    "            response_text = \"\"\n",
    "\n",
    "            async for chunk in turn:\n",
    "                if chunk.text is not None:\n",
    "                    response_text += chunk.text\n",
    "\n",
    "        except Exception as e:\n",
    "            raise RuntimeError(f\"Error invoking the model: {e}\")\n",
    "\n",
    "    # Append the response to messages\n",
    "    response_message = AIMessage(content=response_text)\n",
    "    messages.append(response_message)\n",
    "    \n",
    "    ask_human = False\n",
    "    if (\n",
    "        response_message.tool_calls\n",
    "        and response_message.tool_calls[0][\"name\"] == RequestAssistance.__name__\n",
    "    ):\n",
    "        ask_human = True\n",
    "\n",
    "    # Update and return the state\n",
    "    return {\"messages\": messages[-1], \"ask_human\": ask_human}"
   ]
  },
  {
   "cell_type": "code",
   "execution_count": 11,
   "metadata": {},
   "outputs": [],
   "source": [
    "# Build Graph\n",
    "\n",
    "builder = StateGraph(State)\n",
    "\n",
    "builder.add_node(\"agent\", call_model)\n",
    "builder.add_node(\"human\", human_node)\n",
    "builder.add_node(\"summarize\", summarize_conversation)\n",
    "\n",
    "builder.add_edge(START, \"agent\")\n",
    "builder.add_edge(\"summarize\", END)\n",
    "builder.add_edge(\"human\", \"agent\")\n",
    "\n",
    "builder.add_conditional_edges(\n",
    "    \"agent\",\n",
    "    select_next_node,\n",
    "    {\"summarize\": \"summarize\", \"human\": \"human\", END: END},\n",
    ")\n",
    "\n",
    "graph = builder.compile(\n",
    "    checkpointer=memory,    # if you use postgres pass `checkpointer` (of postgres) instead of memory\n",
    "    interrupt_before=[\"human\"]\n",
    "    )"
   ]
  },
  {
   "cell_type": "code",
   "execution_count": 12,
   "metadata": {},
   "outputs": [
    {
     "data": {
      "image/png": "[encoded data removed]",
      "text/plain": [
       "<IPython.core.display.Image object>"
      ]
     },
     "metadata": {},
     "output_type": "display_data"
    }
   ],
   "source": [
    "display(Image(graph.get_graph().draw_mermaid_png()))"
   ]
  },
  {
   "cell_type": "code",
   "execution_count": 13,
   "metadata": {},
   "outputs": [
    {
     "data": {
      "text/plain": [
       "{'messages': [HumanMessage(content='hi', additional_kwargs={}, response_metadata={}, id='6009b609-c821-4fa2-a446-a1a3ef126271'),\n",
       "  AIMessage(content='Hi there! How can I help you today?\\n', additional_kwargs={}, response_metadata={}, id='7a7a784a-a7fb-4277-8ccb-4e5853885832')],\n",
       " 'ask_human': False}"
      ]
     },
     "execution_count": 13,
     "metadata": {},
     "output_type": "execute_result"
    }
   ],
   "source": [
    "async def run(message:str):\n",
    "    event = await graph.ainvoke({\"messages\": [HumanMessage(content=message)]}, config)\n",
    "    return event\n",
    "\n",
    "await run (\"hi\")"
   ]
  },
  {
   "cell_type": "code",
   "execution_count": 14,
   "metadata": {},
   "outputs": [
    {
     "data": {
      "text/plain": [
       "()"
      ]
     },
     "execution_count": 14,
     "metadata": {},
     "output_type": "execute_result"
    }
   ],
   "source": [
    "snapshot = graph.get_state(config)\n",
    "snapshot.next"
   ]
  },
  {
   "cell_type": "code",
   "execution_count": 15,
   "metadata": {},
   "outputs": [
    {
     "data": {
      "text/plain": [
       "[]"
      ]
     },
     "execution_count": 15,
     "metadata": {},
     "output_type": "execute_result"
    }
   ],
   "source": [
    "existing_message = snapshot.values[\"messages\"][-1]\n",
    "existing_message.tool_calls"
   ]
  },
  {
   "cell_type": "code",
   "execution_count": 16,
   "metadata": {},
   "outputs": [
    {
     "data": {
      "text/plain": [
       "{'messages': [HumanMessage(content='hi', additional_kwargs={}, response_metadata={}, id='6009b609-c821-4fa2-a446-a1a3ef126271'),\n",
       "  AIMessage(content='Hi there! How can I help you today?\\n', additional_kwargs={}, response_metadata={}, id='7a7a784a-a7fb-4277-8ccb-4e5853885832')],\n",
       " 'ask_human': False}"
      ]
     },
     "execution_count": 16,
     "metadata": {},
     "output_type": "execute_result"
    }
   ],
   "source": [
    "async def run(message:str):\n",
    "    event = await graph.ainvoke(None, config)   # pass None so the graph will continue\n",
    "    return event\n",
    "\n",
    "await run (\"hi\")"
   ]
  }
 ],
 "metadata": {
  "kernelspec": {
   "display_name": ".venv",
   "language": "python",
   "name": "python3"
  },
  "language_info": {
   "codemirror_mode": {
    "name": "ipython",
    "version": 3
   },
   "file_extension": ".py",
   "mimetype": "text/x-python",
   "name": "python",
   "nbconvert_exporter": "python",
   "pygments_lexer": "ipython3",
   "version": "3.12.8"
  }
 },
 "nbformat": 4,
 "nbformat_minor": 2
}
